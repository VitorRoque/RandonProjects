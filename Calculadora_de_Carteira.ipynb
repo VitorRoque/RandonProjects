{
  "nbformat": 4,
  "nbformat_minor": 0,
  "metadata": {
    "colab": {
      "provenance": [],
      "authorship_tag": "ABX9TyOZRDJYkSYhgx/Wut+mPi3e",
      "include_colab_link": true
    },
    "kernelspec": {
      "name": "python3",
      "display_name": "Python 3"
    },
    "language_info": {
      "name": "python"
    }
  },
  "cells": [
    {
      "cell_type": "markdown",
      "metadata": {
        "id": "view-in-github",
        "colab_type": "text"
      },
      "source": [
        "<a href=\"https://colab.research.google.com/github/VitorRoque/RandonProjects/blob/main/Calculadora_de_Carteira.ipynb\" target=\"_parent\"><img src=\"https://colab.research.google.com/assets/colab-badge.svg\" alt=\"Open In Colab\"/></a>"
      ]
    },
    {
      "cell_type": "code",
      "source": [
        "\n",
        "#!pip install yfinance"
      ],
      "metadata": {
        "id": "4MjM44rilNx_"
      },
      "execution_count": null,
      "outputs": []
    },
    {
      "cell_type": "markdown",
      "source": [
        "#Context\n",
        "I created this code to calculate my stock portfolio at the time. Basically, I take the current stock price, the amount I want to invest, and the portfolio allocation. With this information, I calculate how much of each stock I should buy."
      ],
      "metadata": {
        "id": "uEf9p3U9w7Sz"
      }
    },
    {
      "cell_type": "markdown",
      "source": [
        "#Contexto\n",
        "Eu criei esse código para calcular a minha carteira de ações da época.\n",
        "Basicamente eu pego o preço atual da ação, o montante que eu quero investir e  a proporção da carteira. Com isso calculo o quanto devo comprar de cada ação."
      ],
      "metadata": {
        "id": "wrL3nYEnxutM"
      }
    },
    {
      "cell_type": "code",
      "execution_count": null,
      "metadata": {
        "id": "K43ZiTYwk7W3"
      },
      "outputs": [],
      "source": [
        "import yfinance as yf\n",
        "import pandas as pd\n",
        "import math\n",
        "\n",
        "def get_last_price(ticker):\n",
        "    try:\n",
        "        stock = yf.Ticker(ticker)\n",
        "        history = stock.history(period='1d')\n",
        "        last_price = history['Close'].iloc[-1]\n",
        "    except:\n",
        "        last_price = 0\n",
        "    return last_price"
      ]
    },
    {
      "cell_type": "markdown",
      "source": [],
      "metadata": {
        "id": "pQmplqBQx8Gi"
      }
    },
    {
      "cell_type": "code",
      "source": [
        "# Example usage\n",
        "tickers = ['PRIO3','VALE3','ITUB4','EQTL3','MULT3','ELET3','VAMO3','BEEF3','BBAS3','CSAN3']  # Replace with your desired tickers\n",
        "percenteges = [10,12.5,12.5,10,10,7.5,7.5,10,12.5,7.5]\n",
        "\n",
        "df = pd.DataFrame({'Tickers': tickers, 'Percent': percenteges})\n",
        "df['Percent'] = (df['Percent'] / 100).astype(float)"
      ],
      "metadata": {
        "id": "bwPqhz09OY8_"
      },
      "execution_count": null,
      "outputs": []
    },
    {
      "cell_type": "code",
      "source": [
        "print('How much do you want to invest ?')\n",
        "aport = float(input())\n"
      ],
      "metadata": {
        "colab": {
          "base_uri": "https://localhost:8080/"
        },
        "id": "BGpSHUYAPMJ3",
        "outputId": "3276a554-f8c5-4a36-86cd-cfbe2dd9ed01"
      },
      "execution_count": null,
      "outputs": [
        {
          "name": "stdout",
          "output_type": "stream",
          "text": [
            "How much do you want to invest ?\n",
            "4000\n"
          ]
        }
      ]
    },
    {
      "cell_type": "code",
      "source": [
        "Price = []\n",
        "Stocks_to_buy = []\n",
        "for index, row in df.iterrows():\n",
        "\n",
        "    ticker = row['Tickers'] + \".SA\"\n",
        "    lastprice = get_last_price(ticker)\n",
        "    Price.append(lastprice)\n",
        "    qty_stocks = aport * row['Percent']\n",
        "    qty_stocks = qty_stocks /lastprice\n",
        "    Stocks_to_buy.append(qty_stocks)\n",
        "\n",
        "df['Price'] = Price\n",
        "df['Qty stocks'] = Stocks_to_buy"
      ],
      "metadata": {
        "id": "oZVI1tnQA6Zq"
      },
      "execution_count": null,
      "outputs": []
    },
    {
      "cell_type": "code",
      "source": [
        "df['Qty stocks'] = df['Qty stocks'].apply(math.ceil)\n",
        "df['Mkt Value'] = df['Qty stocks'] * df['Price']\n",
        "df"
      ],
      "metadata": {
        "colab": {
          "base_uri": "https://localhost:8080/",
          "height": 363
        },
        "id": "R9H4LtZ-Ntun",
        "outputId": "87a30426-391a-4fca-a7a4-7e33ce90a6ee"
      },
      "execution_count": null,
      "outputs": [
        {
          "output_type": "execute_result",
          "data": {
            "text/plain": [
              "  Tickers  Percent      Price  Qty stocks   Mkt Value\n",
              "0   PRIO3    0.100  47.040001           9  423.360008\n",
              "1   VALE3    0.125  66.580002           8  532.640015\n",
              "2   ITUB4    0.125  27.559999          19  523.639990\n",
              "3   EQTL3    0.100  32.349998          13  420.549980\n",
              "4   MULT3    0.100  27.049999          15  405.749989\n",
              "5   ELET3    0.075  36.910000           9  332.189999\n",
              "6   VAMO3    0.075  11.440000          27  308.879989\n",
              "7   BEEF3    0.100  10.600000          38  402.800014\n",
              "8   BBAS3    0.125  46.790001          11  514.690010\n",
              "9   CSAN3    0.075  19.230000          16  307.679993"
            ],
            "text/html": [
              "\n",
              "\n",
              "  <div id=\"df-64fd9e75-c41c-4422-a6a4-8d241135fc5e\">\n",
              "    <div class=\"colab-df-container\">\n",
              "      <div>\n",
              "<style scoped>\n",
              "    .dataframe tbody tr th:only-of-type {\n",
              "        vertical-align: middle;\n",
              "    }\n",
              "\n",
              "    .dataframe tbody tr th {\n",
              "        vertical-align: top;\n",
              "    }\n",
              "\n",
              "    .dataframe thead th {\n",
              "        text-align: right;\n",
              "    }\n",
              "</style>\n",
              "<table border=\"1\" class=\"dataframe\">\n",
              "  <thead>\n",
              "    <tr style=\"text-align: right;\">\n",
              "      <th></th>\n",
              "      <th>Tickers</th>\n",
              "      <th>Percent</th>\n",
              "      <th>Price</th>\n",
              "      <th>Qty stocks</th>\n",
              "      <th>Mkt Value</th>\n",
              "    </tr>\n",
              "  </thead>\n",
              "  <tbody>\n",
              "    <tr>\n",
              "      <th>0</th>\n",
              "      <td>PRIO3</td>\n",
              "      <td>0.100</td>\n",
              "      <td>47.040001</td>\n",
              "      <td>9</td>\n",
              "      <td>423.360008</td>\n",
              "    </tr>\n",
              "    <tr>\n",
              "      <th>1</th>\n",
              "      <td>VALE3</td>\n",
              "      <td>0.125</td>\n",
              "      <td>66.580002</td>\n",
              "      <td>8</td>\n",
              "      <td>532.640015</td>\n",
              "    </tr>\n",
              "    <tr>\n",
              "      <th>2</th>\n",
              "      <td>ITUB4</td>\n",
              "      <td>0.125</td>\n",
              "      <td>27.559999</td>\n",
              "      <td>19</td>\n",
              "      <td>523.639990</td>\n",
              "    </tr>\n",
              "    <tr>\n",
              "      <th>3</th>\n",
              "      <td>EQTL3</td>\n",
              "      <td>0.100</td>\n",
              "      <td>32.349998</td>\n",
              "      <td>13</td>\n",
              "      <td>420.549980</td>\n",
              "    </tr>\n",
              "    <tr>\n",
              "      <th>4</th>\n",
              "      <td>MULT3</td>\n",
              "      <td>0.100</td>\n",
              "      <td>27.049999</td>\n",
              "      <td>15</td>\n",
              "      <td>405.749989</td>\n",
              "    </tr>\n",
              "    <tr>\n",
              "      <th>5</th>\n",
              "      <td>ELET3</td>\n",
              "      <td>0.075</td>\n",
              "      <td>36.910000</td>\n",
              "      <td>9</td>\n",
              "      <td>332.189999</td>\n",
              "    </tr>\n",
              "    <tr>\n",
              "      <th>6</th>\n",
              "      <td>VAMO3</td>\n",
              "      <td>0.075</td>\n",
              "      <td>11.440000</td>\n",
              "      <td>27</td>\n",
              "      <td>308.879989</td>\n",
              "    </tr>\n",
              "    <tr>\n",
              "      <th>7</th>\n",
              "      <td>BEEF3</td>\n",
              "      <td>0.100</td>\n",
              "      <td>10.600000</td>\n",
              "      <td>38</td>\n",
              "      <td>402.800014</td>\n",
              "    </tr>\n",
              "    <tr>\n",
              "      <th>8</th>\n",
              "      <td>BBAS3</td>\n",
              "      <td>0.125</td>\n",
              "      <td>46.790001</td>\n",
              "      <td>11</td>\n",
              "      <td>514.690010</td>\n",
              "    </tr>\n",
              "    <tr>\n",
              "      <th>9</th>\n",
              "      <td>CSAN3</td>\n",
              "      <td>0.075</td>\n",
              "      <td>19.230000</td>\n",
              "      <td>16</td>\n",
              "      <td>307.679993</td>\n",
              "    </tr>\n",
              "  </tbody>\n",
              "</table>\n",
              "</div>\n",
              "      <button class=\"colab-df-convert\" onclick=\"convertToInteractive('df-64fd9e75-c41c-4422-a6a4-8d241135fc5e')\"\n",
              "              title=\"Convert this dataframe to an interactive table.\"\n",
              "              style=\"display:none;\">\n",
              "\n",
              "  <svg xmlns=\"http://www.w3.org/2000/svg\" height=\"24px\"viewBox=\"0 0 24 24\"\n",
              "       width=\"24px\">\n",
              "    <path d=\"M0 0h24v24H0V0z\" fill=\"none\"/>\n",
              "    <path d=\"M18.56 5.44l.94 2.06.94-2.06 2.06-.94-2.06-.94-.94-2.06-.94 2.06-2.06.94zm-11 1L8.5 8.5l.94-2.06 2.06-.94-2.06-.94L8.5 2.5l-.94 2.06-2.06.94zm10 10l.94 2.06.94-2.06 2.06-.94-2.06-.94-.94-2.06-.94 2.06-2.06.94z\"/><path d=\"M17.41 7.96l-1.37-1.37c-.4-.4-.92-.59-1.43-.59-.52 0-1.04.2-1.43.59L10.3 9.45l-7.72 7.72c-.78.78-.78 2.05 0 2.83L4 21.41c.39.39.9.59 1.41.59.51 0 1.02-.2 1.41-.59l7.78-7.78 2.81-2.81c.8-.78.8-2.07 0-2.86zM5.41 20L4 18.59l7.72-7.72 1.47 1.35L5.41 20z\"/>\n",
              "  </svg>\n",
              "      </button>\n",
              "\n",
              "\n",
              "\n",
              "    <div id=\"df-afa69004-ce80-4a75-b4ef-5242bc991608\">\n",
              "      <button class=\"colab-df-quickchart\" onclick=\"quickchart('df-afa69004-ce80-4a75-b4ef-5242bc991608')\"\n",
              "              title=\"Suggest charts.\"\n",
              "              style=\"display:none;\">\n",
              "\n",
              "<svg xmlns=\"http://www.w3.org/2000/svg\" height=\"24px\"viewBox=\"0 0 24 24\"\n",
              "     width=\"24px\">\n",
              "    <g>\n",
              "        <path d=\"M19 3H5c-1.1 0-2 .9-2 2v14c0 1.1.9 2 2 2h14c1.1 0 2-.9 2-2V5c0-1.1-.9-2-2-2zM9 17H7v-7h2v7zm4 0h-2V7h2v10zm4 0h-2v-4h2v4z\"/>\n",
              "    </g>\n",
              "</svg>\n",
              "      </button>\n",
              "    </div>\n",
              "\n",
              "<style>\n",
              "  .colab-df-quickchart {\n",
              "    background-color: #E8F0FE;\n",
              "    border: none;\n",
              "    border-radius: 50%;\n",
              "    cursor: pointer;\n",
              "    display: none;\n",
              "    fill: #1967D2;\n",
              "    height: 32px;\n",
              "    padding: 0 0 0 0;\n",
              "    width: 32px;\n",
              "  }\n",
              "\n",
              "  .colab-df-quickchart:hover {\n",
              "    background-color: #E2EBFA;\n",
              "    box-shadow: 0px 1px 2px rgba(60, 64, 67, 0.3), 0px 1px 3px 1px rgba(60, 64, 67, 0.15);\n",
              "    fill: #174EA6;\n",
              "  }\n",
              "\n",
              "  [theme=dark] .colab-df-quickchart {\n",
              "    background-color: #3B4455;\n",
              "    fill: #D2E3FC;\n",
              "  }\n",
              "\n",
              "  [theme=dark] .colab-df-quickchart:hover {\n",
              "    background-color: #434B5C;\n",
              "    box-shadow: 0px 1px 3px 1px rgba(0, 0, 0, 0.15);\n",
              "    filter: drop-shadow(0px 1px 2px rgba(0, 0, 0, 0.3));\n",
              "    fill: #FFFFFF;\n",
              "  }\n",
              "</style>\n",
              "\n",
              "    <script>\n",
              "      async function quickchart(key) {\n",
              "        const containerElement = document.querySelector('#' + key);\n",
              "        const charts = await google.colab.kernel.invokeFunction(\n",
              "            'suggestCharts', [key], {});\n",
              "      }\n",
              "    </script>\n",
              "\n",
              "      <script>\n",
              "\n",
              "function displayQuickchartButton(domScope) {\n",
              "  let quickchartButtonEl =\n",
              "    domScope.querySelector('#df-afa69004-ce80-4a75-b4ef-5242bc991608 button.colab-df-quickchart');\n",
              "  quickchartButtonEl.style.display =\n",
              "    google.colab.kernel.accessAllowed ? 'block' : 'none';\n",
              "}\n",
              "\n",
              "        displayQuickchartButton(document);\n",
              "      </script>\n",
              "      <style>\n",
              "    .colab-df-container {\n",
              "      display:flex;\n",
              "      flex-wrap:wrap;\n",
              "      gap: 12px;\n",
              "    }\n",
              "\n",
              "    .colab-df-convert {\n",
              "      background-color: #E8F0FE;\n",
              "      border: none;\n",
              "      border-radius: 50%;\n",
              "      cursor: pointer;\n",
              "      display: none;\n",
              "      fill: #1967D2;\n",
              "      height: 32px;\n",
              "      padding: 0 0 0 0;\n",
              "      width: 32px;\n",
              "    }\n",
              "\n",
              "    .colab-df-convert:hover {\n",
              "      background-color: #E2EBFA;\n",
              "      box-shadow: 0px 1px 2px rgba(60, 64, 67, 0.3), 0px 1px 3px 1px rgba(60, 64, 67, 0.15);\n",
              "      fill: #174EA6;\n",
              "    }\n",
              "\n",
              "    [theme=dark] .colab-df-convert {\n",
              "      background-color: #3B4455;\n",
              "      fill: #D2E3FC;\n",
              "    }\n",
              "\n",
              "    [theme=dark] .colab-df-convert:hover {\n",
              "      background-color: #434B5C;\n",
              "      box-shadow: 0px 1px 3px 1px rgba(0, 0, 0, 0.15);\n",
              "      filter: drop-shadow(0px 1px 2px rgba(0, 0, 0, 0.3));\n",
              "      fill: #FFFFFF;\n",
              "    }\n",
              "  </style>\n",
              "\n",
              "      <script>\n",
              "        const buttonEl =\n",
              "          document.querySelector('#df-64fd9e75-c41c-4422-a6a4-8d241135fc5e button.colab-df-convert');\n",
              "        buttonEl.style.display =\n",
              "          google.colab.kernel.accessAllowed ? 'block' : 'none';\n",
              "\n",
              "        async function convertToInteractive(key) {\n",
              "          const element = document.querySelector('#df-64fd9e75-c41c-4422-a6a4-8d241135fc5e');\n",
              "          const dataTable =\n",
              "            await google.colab.kernel.invokeFunction('convertToInteractive',\n",
              "                                                     [key], {});\n",
              "          if (!dataTable) return;\n",
              "\n",
              "          const docLinkHtml = 'Like what you see? Visit the ' +\n",
              "            '<a target=\"_blank\" href=https://colab.research.google.com/notebooks/data_table.ipynb>data table notebook</a>'\n",
              "            + ' to learn more about interactive tables.';\n",
              "          element.innerHTML = '';\n",
              "          dataTable['output_type'] = 'display_data';\n",
              "          await google.colab.output.renderOutput(dataTable, element);\n",
              "          const docLink = document.createElement('div');\n",
              "          docLink.innerHTML = docLinkHtml;\n",
              "          element.appendChild(docLink);\n",
              "        }\n",
              "      </script>\n",
              "    </div>\n",
              "  </div>\n"
            ]
          },
          "metadata": {},
          "execution_count": 6
        }
      ]
    },
    {
      "cell_type": "code",
      "source": [
        "total = df['Mkt Value'].sum()\n",
        "\n",
        "print(\"Total to Invest: R$\", total.round(2))"
      ],
      "metadata": {
        "colab": {
          "base_uri": "https://localhost:8080/"
        },
        "id": "HT739cbORMQe",
        "outputId": "d39d9d59-0c18-4573-fc93-15b1b343eef5"
      },
      "execution_count": null,
      "outputs": [
        {
          "output_type": "stream",
          "name": "stdout",
          "text": [
            "Total to Invest: R$ 4172.18\n"
          ]
        }
      ]
    }
  ]
}